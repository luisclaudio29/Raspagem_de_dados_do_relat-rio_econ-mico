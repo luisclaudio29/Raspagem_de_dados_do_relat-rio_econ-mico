{
  "nbformat": 4,
  "nbformat_minor": 0,
  "metadata": {
    "colab": {
      "provenance": [],
      "authorship_tag": "ABX9TyNeZbOnU3Oi/LOFuFXCDDYN",
      "include_colab_link": true
    },
    "kernelspec": {
      "name": "python3",
      "display_name": "Python 3"
    },
    "language_info": {
      "name": "python"
    }
  },
  "cells": [
    {
      "cell_type": "markdown",
      "metadata": {
        "id": "view-in-github",
        "colab_type": "text"
      },
      "source": [
        "<a href=\"https://colab.research.google.com/github/luisclaudio29/Raspagem_de_dados_do_relat-rio_econ-mico/blob/main/Raspagem_de_dados_do_relat%C3%B3rio_econ%C3%B4mico.ipynb\" target=\"_parent\"><img src=\"https://colab.research.google.com/assets/colab-badge.svg\" alt=\"Open In Colab\"/></a>"
      ]
    },
    {
      "cell_type": "code",
      "execution_count": 4,
      "metadata": {
        "colab": {
          "base_uri": "https://localhost:8080/"
        },
        "id": "9iYE15EIMa_n",
        "outputId": "99460060-7289-41e8-bacb-f9c28d9d66b6"
      },
      "outputs": [
        {
          "output_type": "stream",
          "name": "stdout",
          "text": [
            "Dados não encontrados\n"
          ]
        }
      ],
      "source": [
        "import requests\n",
        "from bs4 import BeautifulSoup\n",
        "\n",
        "def coletar_dados_economicos():\n",
        "    url = 'https://lista.mercadolivre.com.br/maquina-de-lavar#D[A:maquina%20de%20lavar]'\n",
        "\n",
        "    # Enviando uma solicitação http para a página\n",
        "    response = requests.get(url)\n",
        "\n",
        "    if response.status_code == 200:\n",
        "        # Analisando o conteúdo da página\n",
        "        soup = BeautifulSoup(response.text, 'html.parser')\n",
        "        # Extraindo e imprimindo os dados econômicos desejados\n",
        "        dados = soup.find('div', {'class': 'classe_do_elemento'})\n",
        "\n",
        "        if dados:\n",
        "            print(dados.text)\n",
        "        else:\n",
        "            print('Dados não encontrados')\n",
        "    else:\n",
        "        print('Falha ao acessar a página')\n",
        "\n",
        "if __name__ == \"__main__\":\n",
        "    coletar_dados_economicos()\n"
      ]
    }
  ]
}